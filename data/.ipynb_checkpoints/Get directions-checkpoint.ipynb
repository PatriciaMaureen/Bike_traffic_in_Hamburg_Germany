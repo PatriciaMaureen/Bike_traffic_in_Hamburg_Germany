{
 "cells": [
  {
   "cell_type": "code",
   "execution_count": 8,
   "id": "840005ef",
   "metadata": {},
   "outputs": [
    {
     "name": "stdout",
     "output_type": "stream",
     "text": [
      "Anzahl der Zählstellen: 160\n",
      "Anzahl der Datastreams: 160\n"
     ]
    }
   ],
   "source": [
    "import requests\n",
    "import pandas as pd\n",
    "from time import sleep\n",
    "import datetime\n",
    "from random import randint\n",
    "\n",
    "# Funktion zum Abrufen der Zählstellen\n",
    "def fetch_things(url):\n",
    "    response = requests.get(url)\n",
    "    response.raise_for_status()  # Raise an exception for HTTP errors\n",
    "    return response.json()\n",
    "\n",
    "# Basis-URL zum Abrufen der Zählstellen mit dem spezifischen Datastream für tägliche Werte\n",
    "base_url = (\n",
    "    \"https://iot.hamburg.de/v1.0/Things?\"\n",
    "    \"$filter=Datastreams/properties/serviceName eq 'HH_STA_HamburgerRadzaehlnetz' \"\n",
    "    \"and Datastreams/properties/layerName eq 'Anzahl_Fahrraeder_Zaehlstelle_1-Tag'&\"\n",
    "    \"$expand=Datastreams($filter=properties/layerName eq 'Anzahl_Fahrraeder_Zaehlstelle_1-Tag')\"\n",
    ")\n",
    "\n",
    "# Zählstellen abrufen\n",
    "things_data = fetch_things(base_url)\n",
    "things = things_data['value']\n",
    "\n",
    "# Weitere Seiten abrufen, falls vorhanden\n",
    "while '@iot.nextLink' in things_data:\n",
    "    next_url = things_data['@iot.nextLink']\n",
    "    sleep(randint(1,3000)/1000)  # Respektvolle Pause zwischen den Anfragen\n",
    "    things_data = fetch_things(next_url)\n",
    "    things.extend(things_data['value'])\n",
    "\n",
    "# Alle Datastreams extrahieren\n",
    "datastreams = []\n",
    "for thing in things:\n",
    "    for datastream in thing['Datastreams']:\n",
    "        datastreams.append(datastream)\n",
    "\n",
    "print(f\"Anzahl der Zählstellen: {len(things)}\")\n",
    "print(f\"Anzahl der Datastreams: {len(datastreams)}\")"
   ]
  },
  {
   "cell_type": "code",
   "execution_count": 9,
   "id": "0de352ea",
   "metadata": {},
   "outputs": [],
   "source": [
    "# Extract assetID and direction (richtung)\n",
    "df_directions = [{'assetID': item['properties']['assetID'], 'richtung': item['properties']['richtung']} for item in things]\n"
   ]
  },
  {
   "cell_type": "code",
   "execution_count": 10,
   "id": "590b19e1",
   "metadata": {},
   "outputs": [
    {
     "data": {
      "text/plain": [
       "[{'assetID': '0295970', 'richtung': 'Querschnitt'},\n",
       " {'assetID': '0295971', 'richtung': 'Nordost nach Südwest'},\n",
       " {'assetID': '0295972', 'richtung': 'Südwest nach Nordost'},\n",
       " {'assetID': '0295910', 'richtung': 'Querschnitt'},\n",
       " {'assetID': '0295911', 'richtung': 'Nordwest nach Südost'},\n",
       " {'assetID': '0295912', 'richtung': 'Südost nach Nordwest'},\n",
       " {'assetID': '7434930', 'richtung': 'Querschnitt'},\n",
       " {'assetID': '7434932', 'richtung': 'Südwest nach Nordost'},\n",
       " {'assetID': '6894920', 'richtung': 'Querschnitt'},\n",
       " {'assetID': '6894921', 'richtung': 'Nord nach Süd'},\n",
       " {'assetID': '6894922', 'richtung': 'Süd nach Nord'},\n",
       " {'assetID': '6117941', 'richtung': 'Ost nach West'},\n",
       " {'assetID': '0269952', 'richtung': 'Südost nach Nordwest'},\n",
       " {'assetID': '7302960', 'richtung': 'Querschnitt'},\n",
       " {'assetID': '7302961', 'richtung': 'Nord nach Süd'},\n",
       " {'assetID': '7302962', 'richtung': 'Süd nach Nord'},\n",
       " {'assetID': '7197912', 'richtung': 'Südost nach Nordwest'},\n",
       " {'assetID': '7414960', 'richtung': 'Querschnitt'},\n",
       " {'assetID': '7414961', 'richtung': 'Nord nach Süd'},\n",
       " {'assetID': '7414962', 'richtung': 'Süd nach Nord'},\n",
       " {'assetID': '7433950', 'richtung': 'Querschnitt'},\n",
       " {'assetID': '7433951', 'richtung': 'Nordwest nach Südost'},\n",
       " {'assetID': '7433952', 'richtung': 'Südost nach Nordwest'},\n",
       " {'assetID': '6894950', 'richtung': 'Querschnitt'},\n",
       " {'assetID': '6894951', 'richtung': 'Nordwest nach Südost'},\n",
       " {'assetID': '6894952', 'richtung': 'Südost nach Nordwest'},\n",
       " {'assetID': '0375911', 'richtung': 'Nordwest nach Südost'},\n",
       " {'assetID': '0375942', 'richtung': 'West nach Ost'},\n",
       " {'assetID': '0285981', 'richtung': 'Ost nach West'},\n",
       " {'assetID': '7430911', 'richtung': 'Nordwest nach Südost'},\n",
       " {'assetID': '6111922', 'richtung': 'Süd nach Nord'},\n",
       " {'assetID': '0117932', 'richtung': 'Südwest nach Nordost'},\n",
       " {'assetID': '7068920', 'richtung': 'Querschnitt'},\n",
       " {'assetID': '7068921', 'richtung': 'Nord nach Süd'},\n",
       " {'assetID': '7068922', 'richtung': 'Süd nach Nord'},\n",
       " {'assetID': '6779940', 'richtung': 'Querschnitt'},\n",
       " {'assetID': '6779941', 'richtung': 'Ost nach West'},\n",
       " {'assetID': '6779942', 'richtung': 'West nach Ost'},\n",
       " {'assetID': '7297940', 'richtung': 'Querschnitt'},\n",
       " {'assetID': '7297941', 'richtung': 'Ost nach West'},\n",
       " {'assetID': '7297942', 'richtung': 'West nach Ost'},\n",
       " {'assetID': '0286940', 'richtung': 'Querschnitt'},\n",
       " {'assetID': '0286941', 'richtung': 'Ost nach West'},\n",
       " {'assetID': '0286942', 'richtung': 'West nach Ost'},\n",
       " {'assetID': '6716940', 'richtung': 'Querschnitt'},\n",
       " {'assetID': '6716941', 'richtung': 'Ost nach West'},\n",
       " {'assetID': '6716942', 'richtung': 'West nach Ost'},\n",
       " {'assetID': '7433911', 'richtung': 'Nordwest nach Südost'},\n",
       " {'assetID': '0285941', 'richtung': 'Ost nach West'},\n",
       " {'assetID': '0311951', 'richtung': 'Nordwest nach Südost'},\n",
       " {'assetID': '0311911', 'richtung': 'Nordwest nach Südost'},\n",
       " {'assetID': '7433970', 'richtung': 'Querschnitt'},\n",
       " {'assetID': '7433971', 'richtung': 'Nordost nach Südwest'},\n",
       " {'assetID': '7433972', 'richtung': 'Südwest nach Nordost'},\n",
       " {'assetID': '7462910', 'richtung': 'Querschnitt'},\n",
       " {'assetID': '7462911', 'richtung': 'Nordwest nach Südost'},\n",
       " {'assetID': '7462912', 'richtung': 'Südost nach Nordwest'},\n",
       " {'assetID': '7434931', 'richtung': 'Nordost nach Südwest'},\n",
       " {'assetID': '6117940', 'richtung': 'Querschnitt'},\n",
       " {'assetID': '6117942', 'richtung': 'West nach Ost'},\n",
       " {'assetID': '7197931', 'richtung': 'Nordost nach Südwest'},\n",
       " {'assetID': '0002980', 'richtung': 'Querschnitt'},\n",
       " {'assetID': '0002981', 'richtung': 'Ost nach West'},\n",
       " {'assetID': '0002982', 'richtung': 'West nach Ost'},\n",
       " {'assetID': '0375952', 'richtung': 'Südost nach Nordwest'},\n",
       " {'assetID': '0297981', 'richtung': 'Ost nach West'},\n",
       " {'assetID': '7432910', 'richtung': 'Querschnitt'},\n",
       " {'assetID': '7432911', 'richtung': 'Nordwest nach Südost'},\n",
       " {'assetID': '7432912', 'richtung': 'Südost nach Nordwest'},\n",
       " {'assetID': '7436960', 'richtung': 'Querschnitt'},\n",
       " {'assetID': '7436961', 'richtung': 'Nord nach Süd'},\n",
       " {'assetID': '7436962', 'richtung': 'Süd nach Nord'},\n",
       " {'assetID': '6058932', 'richtung': 'Südwest nach Nordost'},\n",
       " {'assetID': '6195921', 'richtung': 'Nord nach Süd'},\n",
       " {'assetID': '7432970', 'richtung': 'Querschnitt'},\n",
       " {'assetID': '7432971', 'richtung': 'Nordost nach Südwest'},\n",
       " {'assetID': '7432972', 'richtung': 'Südwest nach Nordost'},\n",
       " {'assetID': '0375950', 'richtung': 'Querschnitt'},\n",
       " {'assetID': '0375951', 'richtung': 'Nordwest nach Südost'},\n",
       " {'assetID': '6408960', 'richtung': 'Querschnitt'},\n",
       " {'assetID': '6408961', 'richtung': 'Nord nach Süd'},\n",
       " {'assetID': '6408962', 'richtung': 'Süd nach Nord'},\n",
       " {'assetID': '6655960', 'richtung': 'Querschnitt'},\n",
       " {'assetID': '6655961', 'richtung': 'Nord nach Süd'},\n",
       " {'assetID': '6655962', 'richtung': 'Süd nach Nord'},\n",
       " {'assetID': '0297980', 'richtung': 'Querschnitt'},\n",
       " {'assetID': '0297982', 'richtung': 'West nach Ost'},\n",
       " {'assetID': '0109931', 'richtung': 'Nordost nach Südwest'},\n",
       " {'assetID': '7435920', 'richtung': 'Querschnitt'},\n",
       " {'assetID': '7435921', 'richtung': 'Nord nach Süd'},\n",
       " {'assetID': '7435922', 'richtung': 'Süd nach Nord'},\n",
       " {'assetID': '6058930', 'richtung': 'Querschnitt'},\n",
       " {'assetID': '6058931', 'richtung': 'Nordost nach Südwest'},\n",
       " {'assetID': '6195920', 'richtung': 'Querschnitt'},\n",
       " {'assetID': '6195922', 'richtung': 'Süd nach Nord'},\n",
       " {'assetID': '7462971', 'richtung': 'Nordost nach Südwest'},\n",
       " {'assetID': '6125982', 'richtung': 'West nach Ost'},\n",
       " {'assetID': '0375940', 'richtung': 'Querschnitt'},\n",
       " {'assetID': '0375941', 'richtung': 'Ost nach West'},\n",
       " {'assetID': '7431960', 'richtung': 'Querschnitt'},\n",
       " {'assetID': '7431961', 'richtung': 'Nord nach Süd'},\n",
       " {'assetID': '7431962', 'richtung': 'Süd nach Nord'},\n",
       " {'assetID': '6370940', 'richtung': 'Querschnitt'},\n",
       " {'assetID': '6370941', 'richtung': 'Ost nach West'},\n",
       " {'assetID': '6370942', 'richtung': 'West nach Ost'},\n",
       " {'assetID': '6085970', 'richtung': 'Querschnitt'},\n",
       " {'assetID': '6085971', 'richtung': 'Nordost nach Südwest'},\n",
       " {'assetID': '6085972', 'richtung': 'Südwest nach Nordost'},\n",
       " {'assetID': '0311910', 'richtung': 'Querschnitt'},\n",
       " {'assetID': '0211950', 'richtung': 'Querschnitt'},\n",
       " {'assetID': '0211952', 'richtung': 'Südost nach Nordwest'},\n",
       " {'assetID': '0285940', 'richtung': 'Querschnitt'},\n",
       " {'assetID': '0285942', 'richtung': 'West nach Ost'},\n",
       " {'assetID': '0269950', 'richtung': 'Querschnitt'},\n",
       " {'assetID': '0269951', 'richtung': 'Nordwest nach Südost'},\n",
       " {'assetID': '0311950', 'richtung': 'Querschnitt'},\n",
       " {'assetID': '0311952', 'richtung': 'Südost nach Nordwest'},\n",
       " {'assetID': '0211951', 'richtung': 'Nordwest nach Südost'},\n",
       " {'assetID': '0311912', 'richtung': 'Südost nach Nordwest'},\n",
       " {'assetID': '0322920', 'richtung': 'Querschnitt'},\n",
       " {'assetID': '0322921', 'richtung': 'Nord nach Süd'},\n",
       " {'assetID': '0322922', 'richtung': 'Süd nach Nord'},\n",
       " {'assetID': '7435962', 'richtung': 'Süd nach Nord'},\n",
       " {'assetID': '6283961', 'richtung': 'Nord nach Süd'},\n",
       " {'assetID': '7435941', 'richtung': 'Ost nach West'},\n",
       " {'assetID': '7462970', 'richtung': 'Querschnitt'},\n",
       " {'assetID': '7462972', 'richtung': 'Südwest nach Nordost'},\n",
       " {'assetID': '0375910', 'richtung': 'Querschnitt'},\n",
       " {'assetID': '0375912', 'richtung': 'Südost nach Nordwest'},\n",
       " {'assetID': '7241940', 'richtung': 'Querschnitt'},\n",
       " {'assetID': '7241941', 'richtung': 'Ost nach West'},\n",
       " {'assetID': '7241942', 'richtung': 'West nach Ost'},\n",
       " {'assetID': '7241920', 'richtung': 'Querschnitt'},\n",
       " {'assetID': '7241921', 'richtung': 'Nord nach Süd'},\n",
       " {'assetID': '7241922', 'richtung': 'Süd nach Nord'},\n",
       " {'assetID': '7241980', 'richtung': 'Querschnitt'},\n",
       " {'assetID': '7241981', 'richtung': 'Ost nach West'},\n",
       " {'assetID': '7241982', 'richtung': 'West nach Ost'},\n",
       " {'assetID': '7241960', 'richtung': 'Querschnitt'},\n",
       " {'assetID': '7241961', 'richtung': 'Nord nach Süd'},\n",
       " {'assetID': '7241962', 'richtung': 'Süd nach Nord'},\n",
       " {'assetID': '6111920', 'richtung': 'Querschnitt'},\n",
       " {'assetID': '6111921', 'richtung': 'Nord nach Süd'},\n",
       " {'assetID': '0117930', 'richtung': 'Querschnitt'},\n",
       " {'assetID': '0117931', 'richtung': 'Nordost nach Südwest'},\n",
       " {'assetID': '7433910', 'richtung': 'Querschnitt'},\n",
       " {'assetID': '7433912', 'richtung': 'Südost nach Nordwest'},\n",
       " {'assetID': '6125980', 'richtung': 'Querschnitt'},\n",
       " {'assetID': '6125981', 'richtung': 'Ost nach West'},\n",
       " {'assetID': '7430910', 'richtung': 'Querschnitt'},\n",
       " {'assetID': '7430912', 'richtung': 'Südost nach Nordwest'},\n",
       " {'assetID': '0003920', 'richtung': 'Querschnitt'},\n",
       " {'assetID': '0003921', 'richtung': 'Nord nach Süd'},\n",
       " {'assetID': '0003922', 'richtung': 'Süd nach Nord'},\n",
       " {'assetID': '7435960', 'richtung': 'Querschnitt'},\n",
       " {'assetID': '7435961', 'richtung': 'Nord nach Süd'},\n",
       " {'assetID': '7435940', 'richtung': 'Querschnitt'},\n",
       " {'assetID': '7435942', 'richtung': 'West nach Ost'},\n",
       " {'assetID': '0109930', 'richtung': 'Querschnitt'},\n",
       " {'assetID': '0109932', 'richtung': 'Südwest nach Nordost'}]"
      ]
     },
     "execution_count": 10,
     "metadata": {},
     "output_type": "execute_result"
    }
   ],
   "source": [
    "df_directions"
   ]
  },
  {
   "cell_type": "code",
   "execution_count": 11,
   "id": "daa94a0f",
   "metadata": {},
   "outputs": [],
   "source": [
    "# Create a DataFrame\n",
    "df_directions = pd.DataFrame(df_directions)"
   ]
  },
  {
   "cell_type": "code",
   "execution_count": 13,
   "id": "caaba714",
   "metadata": {},
   "outputs": [
    {
     "data": {
      "text/plain": [
       "assetID     0\n",
       "richtung    0\n",
       "dtype: int64"
      ]
     },
     "execution_count": 13,
     "metadata": {},
     "output_type": "execute_result"
    }
   ],
   "source": [
    "df_directions.isna().sum()"
   ]
  },
  {
   "cell_type": "code",
   "execution_count": 14,
   "id": "d07965b4",
   "metadata": {},
   "outputs": [
    {
     "data": {
      "text/plain": [
       "assetID     object\n",
       "richtung    object\n",
       "dtype: object"
      ]
     },
     "execution_count": 14,
     "metadata": {},
     "output_type": "execute_result"
    }
   ],
   "source": [
    "df_directions.dtypes"
   ]
  },
  {
   "cell_type": "code",
   "execution_count": 15,
   "id": "47acce0c",
   "metadata": {},
   "outputs": [],
   "source": [
    "df_directions['assetID'] =  pd.to_numeric(df_directions['assetID'], errors='coerce')"
   ]
  },
  {
   "cell_type": "code",
   "execution_count": 16,
   "id": "6c3e36de",
   "metadata": {},
   "outputs": [],
   "source": [
    "df_directions = df_directions.rename(columns={'richtung':'direction'})"
   ]
  },
  {
   "cell_type": "code",
   "execution_count": 18,
   "id": "bf0ee279",
   "metadata": {},
   "outputs": [],
   "source": [
    "df_directions.to_csv('counting_points_details.csv', index=False)"
   ]
  },
  {
   "cell_type": "code",
   "execution_count": null,
   "id": "b1a41fef",
   "metadata": {},
   "outputs": [],
   "source": []
  }
 ],
 "metadata": {
  "kernelspec": {
   "display_name": "Python 3 (ipykernel)",
   "language": "python",
   "name": "python3"
  },
  "language_info": {
   "codemirror_mode": {
    "name": "ipython",
    "version": 3
   },
   "file_extension": ".py",
   "mimetype": "text/x-python",
   "name": "python",
   "nbconvert_exporter": "python",
   "pygments_lexer": "ipython3",
   "version": "3.11.5"
  }
 },
 "nbformat": 4,
 "nbformat_minor": 5
}
